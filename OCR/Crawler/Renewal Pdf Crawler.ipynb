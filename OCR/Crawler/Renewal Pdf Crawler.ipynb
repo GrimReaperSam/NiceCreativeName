{
 "cells": [
  {
   "cell_type": "code",
   "execution_count": 2,
   "metadata": {},
   "outputs": [],
   "source": [
    "import requests\n",
    "from bs4 import BeautifulSoup as BS\n",
    "import re\n",
    "from tqdm import tqdm_notebook\n",
    "import urllib3\n",
    "import ssl\n"
   ]
  },
  {
   "cell_type": "code",
   "execution_count": 5,
   "metadata": {},
   "outputs": [
    {
     "name": "stderr",
     "output_type": "stream",
     "text": [
      "/Users/yyl/miniconda3/envs/cv/lib/python3.6/site-packages/urllib3/connectionpool.py:858: InsecureRequestWarning: Unverified HTTPS request is being made. Adding certificate verification is strongly advised. See: https://urllib3.readthedocs.io/en/latest/advanced-usage.html#ssl-warnings\n",
      "  InsecureRequestWarning)\n"
     ]
    }
   ],
   "source": [
    "#ssl._create_default_https_context = ssl._create_unverified_context\n",
    "url = 'https://uro.gov.taipei/News_Content.aspx?n=AF4D78CF694B745C&sms=CCC54E6046E281ED&s=A8E4116C7FAE89D8'\n",
    "response = requests.get(url, verify=False)\n",
    "soup = BS(response.text,'html5lib')"
   ]
  },
  {
   "cell_type": "code",
   "execution_count": 6,
   "metadata": {},
   "outputs": [
    {
     "data": {
      "text/plain": [
       "[<a href=\"cp.aspx?n=1DB8B0B52F1EAD3A\" title=\"預(決)算書\">預(決)算書</a>,\n",
       " <a href=\"cp.aspx?n=1DB8B0B52F1EAD3A\" title=\"預(決)算書\">預(決)算書</a>,\n",
       " <a href=\"http://www-ws.gov.taipei/001/Upload/public/MMO/URO/松山區B1088.pdf\" target=\"_blank\" title=\"B1088\">檢討書(pdf)</a>,\n",
       " <a href=\"http://www-ws.gov.taipei/001/Upload/public/MMO/URO/松山區B1085.pdf\" target=\"_blank\" title=\"B1085\">檢討書(pdf)</a>,\n",
       " <a href=\"http://www-ws.gov.taipei/001/Upload/public/MMO/URO/松山區B1084.pdf\" target=\"_blank\" title=\"B1084\">檢討書(pdf)</a>,\n",
       " <a href=\"http://www-ws.gov.taipei/001/Upload/public/MMO/URO/松山區B1070.pdf\" target=\"_blank\" title=\"B1070\">檢討書(pdf)</a>,\n",
       " <a href=\"http://www-ws.gov.taipei/001/Upload/public/MMO/URO/松山區B1036.pdf\" target=\"_blank\">檢討書(pdf)</a>,\n",
       " <a href=\"http://www-ws.gov.taipei/001/Upload/public/MMO/URO/松山區B1009.pdf\" target=\"_blank\">檢討書(pdf)</a>,\n",
       " <a href=\"http://www-ws.gov.taipei/001/Upload/public/MMO/URO/松山區B1003.pdf\" target=\"_blank\">檢討書(pdf)</a>,\n",
       " <a href=\"http://www-ws.gov.taipei/001/Upload/public/MMO/URO/松山區B0987.pdf\" target=\"_blank\">檢討書(pdf)</a>,\n",
       " <a href=\"http://www-ws.gov.taipei/001/Upload/public/MMO/URO/松山區B0966.pdf\" target=\"_blank\">檢討書(pdf)</a>,\n",
       " <a href=\"http://www-ws.gov.taipei/001/Upload/public/MMO/URO/松山區B0954.pdf\" target=\"_blank\">檢討書(pdf)</a>,\n",
       " <a href=\"http://www-ws.gov.taipei/001/Upload/public/MMO/URO/松山區B0943.pdf\" target=\"_blank\">檢討書(pdf)</a>,\n",
       " <a href=\"http://www-ws.gov.taipei/001/Upload/public/MMO/URO/松山區B0940.pdf\" target=\"_blank\">檢討書(pdf)</a>,\n",
       " <a href=\"http://www-ws.gov.taipei/001/Upload/public/MMO/URO/松山區B0937.pdf\" target=\"_blank\">檢討書(pdf)</a>,\n",
       " <a href=\"http://www-ws.gov.taipei/001/Upload/public/MMO/URO/松山區B0926.pdf\" target=\"_blank\">檢討書(pdf)</a>,\n",
       " <a href=\"http://www-ws.gov.taipei/001/Upload/public/MMO/URO/松山區B0915.pdf\" target=\"_blank\">檢討書(pdf)</a>,\n",
       " <a href=\"http://www-ws.gov.taipei/001/Upload/public/MMO/URO/松山區B0916.pdf\" target=\"_blank\">檢討書(pdf)</a>,\n",
       " <a href=\"http://www-ws.gov.taipei/001/Upload/public/MMO/URO/松山區B0902.pdf\" target=\"_blank\">檢討書(pdf)</a>,\n",
       " <a href=\"http://www-ws.gov.taipei/001/Upload/public/MMO/URO/松山區B0899.pdf\" target=\"_blank\">檢討書(pdf)</a>,\n",
       " <a href=\"http://www-ws.gov.taipei/001/Upload/public/MMO/URO/松山區B0895.pdf\" target=\"_blank\">檢討書(pdf)</a>,\n",
       " <a href=\"http://www-ws.gov.taipei/001/Upload/public/MMO/URO/松山區B0892.pdf\" target=\"_blank\">檢討書(pdf)</a>,\n",
       " <a href=\"http://www-ws.gov.taipei/001/Upload/public/MMO/URO/松山區B0874.pdf\" target=\"_blank\">檢討書(pdf)</a>,\n",
       " <a href=\"http://www-ws.gov.taipei/001/Upload/public/MMO/URO/松山區B0873.pdf\" target=\"_blank\">檢討書(pdf)</a>,\n",
       " <a href=\"http://www-ws.gov.taipei/001/Upload/public/MMO/URO/松山區B0859.pdf\" target=\"_blank\">檢討書(pdf)</a>,\n",
       " <a href=\"http://www-ws.gov.taipei/001/Upload/public/MMO/URO/松山區B0854.pdf\" target=\"_blank\">檢討書(pdf)</a>,\n",
       " <a href=\"http://www-ws.gov.taipei/001/Upload/public/MMO/URO/松山區K0850.pdf\" target=\"_blank\">檢討書(pdf)</a>,\n",
       " <a href=\"http://www-ws.gov.taipei/001/Upload/public/MMO/URO/松山區B0835.pdf\" target=\"_blank\">檢討書(pdf)</a>,\n",
       " <a href=\"http://www-ws.gov.taipei/001/Upload/public/MMO/URO/松山區B0833.pdf\" target=\"_blank\">檢討書(pdf)</a>,\n",
       " <a href=\"http://www-ws.gov.taipei/001/Upload/public/MMO/URO/松山區B0822.pdf\" target=\"_blank\">檢討書(pdf)</a>,\n",
       " <a href=\"http://www-ws.gov.taipei/001/Upload/public/MMO/URO/松山區B0811.pdf\" target=\"_blank\">檢討書(pdf)</a>,\n",
       " <a href=\"http://www-ws.gov.taipei/001/Upload/public/MMO/URO/松山區B0798.pdf\" target=\"_blank\">檢討書(pdf)</a>,\n",
       " <a href=\"http://www-ws.gov.taipei/001/Upload/public/MMO/URO/松山區B0794.pdf\" target=\"_blank\">檢討書(pdf)</a>,\n",
       " <a href=\"http://www-ws.gov.taipei/001/Upload/public/MMO/URO/松山區D0794.pdf\" target=\"_blank\">修正檢討書(pdf)內容</a>,\n",
       " <a href=\"http://www-ws.gov.taipei/001/Upload/public/MMO/URO/松山區B0784.pdf\" target=\"_blank\">檢討書(pdf)</a>,\n",
       " <a href=\"http://www-ws.gov.taipei/001/Upload/public/MMO/URO/松山區B0744.pdf\" target=\"_blank\">檢討書(pdf)</a>,\n",
       " <a href=\"http://www-ws.gov.taipei/001/Upload/public/MMO/URO/松山區B0736.pdf\" target=\"_blank\">檢討書(pdf)</a>,\n",
       " <a href=\"http://www-ws.gov.taipei/001/Upload/public/MMO/URO/松山區B0722.pdf\" target=\"_blank\">檢討書(pdf)</a>,\n",
       " <a href=\"http://www-ws.gov.taipei/001/Upload/public/MMO/URO/松山區B0716.pdf\" target=\"_blank\">檢討書(pdf)</a>,\n",
       " <a href=\"http://www-ws.gov.taipei/001/Upload/public/MMO/URO/松山區B0681.pdf\" target=\"_blank\">檢討書(pdf)</a>,\n",
       " <a href=\"http://www-ws.gov.taipei/001/Upload/public/MMO/URO/松山區B0659.pdf\" target=\"_blank\">檢討書(pdf)</a>,\n",
       " <a href=\"http://www-ws.gov.taipei/001/Upload/public/MMO/URO/松山區B0652.pdf\" target=\"_blank\">計畫書(pdf)</a>,\n",
       " <a href=\"http://www-ws.gov.taipei/001/Upload/public/MMO/URO/松山區B0646.pdf\" target=\"_blank\">檢討書(pdf)</a>,\n",
       " <a href=\"http://www-ws.gov.taipei/001/Upload/public/MMO/URO/松山區B0647.pdf\" target=\"_blank\">檢討書(pdf)</a>,\n",
       " <a href=\"http://www-ws.gov.taipei/001/Upload/public/MMO/URO/松山區B0641.pdf\" target=\"_blank\">檢討書(pdf)</a>,\n",
       " <a href=\"http://www-ws.gov.taipei/001/Upload/public/MMO/URO/松山區B0595.pdf\" target=\"_blank\">檢討書(pdf)</a>,\n",
       " <a href=\"http://www-ws.gov.taipei/001/Upload/public/MMO/URO/松山區B0592.pdf\" target=\"_blank\">檢討書(pdf)</a>,\n",
       " <a href=\"http://www-ws.gov.taipei/001/Upload/public/MMO/URO/松山區B0581.pdf\" target=\"_blank\">檢討書(pdf)</a>,\n",
       " <a href=\"http://www-ws.gov.taipei/001/Upload/public/MMO/URO/松山區B0557.pdf\" target=\"_blank\" title=\"計畫書(pdf)-B0557\">計畫書(pdf)</a>,\n",
       " <a href=\"http://www-ws.gov.taipei/001/Upload/public/MMO/URO/松山區B0556.pdf\" target=\"_blank\" title=\"計畫書(pdf)-B0556\">計畫書(pdf)</a>,\n",
       " <a href=\"http://www-ws.gov.taipei/001/Upload/public/MMO/URO/松山區B0541.pdf\" target=\"_blank\" title=\"計畫書(pdf)-B0541\">計畫書(pdf)</a>,\n",
       " <a href=\"http://www-ws.gov.taipei/001/Upload/public/MMO/URO/松山區B0540.pdf\" target=\"_blank\" title=\"計畫書(pdf)-B0540\">計畫書(pdf)</a>,\n",
       " <a href=\"http://www-ws.gov.taipei/001/Upload/public/MMO/URO/松山區B0539.pdf\" target=\"_blank\" title=\"計畫書(pdf)-B0539\">計畫書(pdf)</a>,\n",
       " <a href=\"http://www-ws.gov.taipei/001/Upload/public/MMO/URO/松山區B0522.pdf\" target=\"_blank\" title=\"計畫書(pdf)-B0522\">計畫書(pdf)</a>,\n",
       " <a href=\"http://www-ws.gov.taipei/001/Upload/public/MMO/URO/松山區B0509.pdf\" target=\"_blank\" title=\"計畫書(pdf)-B0509\">計畫書(pdf)</a>,\n",
       " <a href=\"http://www-ws.gov.taipei/001/Upload/public/MMO/URO/松山區B470.pdf\" target=\"_blank\" title=\"計畫書(pdf)-B0470\">計畫書(pdf)</a>,\n",
       " <a href=\"http://www-ws.gov.taipei/001/Upload/public/MMO/URO/松山區B469.pdf\" target=\"_blank\" title=\"計畫書(pdf)-B0469\">計畫書(pdf)</a>,\n",
       " <a href=\"http://www-ws.gov.taipei/001/Upload/public/MMO/URO/松山區B423.pdf\" target=\"_blank\" title=\"計畫書(pdf)-B0423\">計畫書(pdf)</a>,\n",
       " <a href=\"http://www-ws.gov.taipei/001/Upload/public/MMO/URO/松山區B400.pdf\" target=\"_blank\" title=\"計畫書(pdf)-B0400\">計畫書(pdf)</a>,\n",
       " <a href=\"http://www-ws.gov.taipei/001/Upload/public/MMO/URO/松山區B384_v1_20120214.pdf\" target=\"_blank\" title=\"計畫書(pdf)-B0384\">計畫書(pdf)</a>,\n",
       " <a href=\"http://www-ws.gov.taipei/001/Upload/public/MMO/URO/松山區B382_v1_20120214.pdf\" target=\"_blank\" title=\"計畫書(pdf)-B0382\">計畫書(pdf)</a>,\n",
       " <a href=\"http://www-ws.gov.taipei/001/Upload/public/MMO/URO/松山區B373.pdf\" target=\"_blank\" title=\"計畫書(pdf)-B0373\">計畫書(pdf)</a>,\n",
       " <a href=\"http://www-ws.gov.taipei/001/Upload/public/MMO/URO/松山區B0358.pdf\" target=\"_blank\" title=\"計畫書(pdf)-B0358\">計畫書(pdf)</a>,\n",
       " <a href=\"http://www-ws.gov.taipei/001/Upload/public/MMO/URO/松山區B0353.pdf\" target=\"_blank\" title=\"計畫書(pdf)-B0353\">計畫書(pdf)</a>,\n",
       " <a href=\"http://www-ws.gov.taipei/001/Upload/public/MMO/URO/松山區B330.pdf\" target=\"_blank\" title=\"計畫書(pdf)-B0330\">計畫書(pdf)</a>,\n",
       " <a href=\"http://www-ws.gov.taipei/001/Upload/public/MMO/URO/松山區B318.pdf\" target=\"_blank\" title=\"計畫書(pdf)-B0311\">計畫書(pdf)</a>,\n",
       " <a href=\"http://www-ws.gov.taipei/001/Upload/public/MMO/URO/松山區B287.pdf\" target=\"_blank\" title=\"計畫書(pdf)-B0287\">計畫書(pdf)</a>,\n",
       " <a href=\"http://www-ws.gov.taipei/001/Upload/public/MMO/URO/松山區B271.pdf\" target=\"_blank\" title=\"計畫書(pdf)-B0271\">計畫書(pdf)</a>,\n",
       " <a href=\"http://www-ws.gov.taipei/001/Upload/public/MMO/URO/松山區B0257.pdf\" target=\"_blank\" title=\"計畫圖(pdf)-B0257\">計畫書(pdf)</a>,\n",
       " <a href=\"http://www-ws.gov.taipei/001/Upload/public/MMO/URO/松山區B0256.pdf\" target=\"_blank\" title=\"計畫圖(pdf)-B0256\">計畫書(pdf)</a>,\n",
       " <a href=\"http://www-ws.gov.taipei/001/Upload/public/MMO/URO/松山區B257.pdf\" target=\"_blank\" title=\"計畫書(pdf)-B0245\">計畫書(pdf)</a>,\n",
       " <a href=\"http://www-ws.gov.taipei/001/Upload/public/MMO/URO/松山區B245.pdf\" target=\"_blank\" title=\"計畫書(pdf)-B0245\">計畫書(pdf)</a>,\n",
       " <a href=\"http://www-ws.gov.taipei/001/Upload/public/MMO/URO/松山區B224.pdf\" target=\"_blank\" title=\"計畫圖(pdf)-B0224\">計畫書(pdf)</a>,\n",
       " <a href=\"http://www-ws.gov.taipei/001/Upload/public/MMO/URO/松山區B214.pdf\" target=\"_blank\" title=\"計畫圖(pdf)-B0214\">計畫書(pdf)</a>,\n",
       " <a href=\"http://www-ws.gov.taipei/001/Upload/public/MMO/URO/松山區B186.pdf\" target=\"_blank\">計畫書(pdf)</a>,\n",
       " <a href=\"http://www-ws.gov.taipei/001/Upload/public/MMO/URO/松山區B185.pdf\" target=\"_blank\">計畫書(pdf)</a>,\n",
       " <a href=\"http://www-ws.gov.taipei/001/Upload/public/MMO/URO/松山區B175.pdf\" target=\"_blank\">計畫書(pdf)</a>,\n",
       " <a href=\"http://www-ws.gov.taipei/001/Upload/public/MMO/URO/松山區B163.pdf\" target=\"_blank\">計畫書(pdf)</a>,\n",
       " <a href=\"http://www-ws.gov.taipei/001/Upload/public/MMO/URO/松山區B162.pdf\" target=\"_blank\">計畫書(pdf)</a>,\n",
       " <a href=\"http://www-ws.gov.taipei/001/Upload/public/MMO/URO/松山區B082.pdf\" target=\"_blank\">計畫書(pdf)</a>,\n",
       " <a href=\"http://www-ws.gov.taipei/001/Upload/public/MMO/URO/松山區B143.pdf\" target=\"_blank\">計畫書(pdf)</a>,\n",
       " <a href=\"http://www-ws.gov.taipei/001/Upload/public/MMO/URO/松山區B132.pdf\" target=\"_blank\">計畫書(pdf)</a>,\n",
       " <a href=\"http://www-ws.gov.taipei/001/Upload/public/MMO/URO/松山區B119.pdf\" target=\"_blank\">計畫書(pdf)</a>,\n",
       " <a href=\"http://www-ws.gov.taipei/001/Upload/public/MMO/URO/松山區B078.pdf\" target=\"_blank\">計畫書(pdf)</a>,\n",
       " <a href=\"http://www-ws.gov.taipei/001/Upload/public/MMO/URO/松山區B071.pdf\" target=\"_blank\">計畫書(pdf)</a>,\n",
       " <a href=\"http://www-ws.gov.taipei/001/Upload/public/MMO/URO/松山區B0062.pdf\" target=\"_blank\">計畫書(pdf)</a>,\n",
       " <a href=\"http://www-ws.gov.taipei/001/Upload/public/MMO/URO/松山區B046.pdf\" target=\"_blank\">計畫書(pdf)</a>,\n",
       " <a href=\"http://www-ws.gov.taipei/001/Upload/public/MMO/URO/松山區B0031.pdf\" target=\"_blank\">計畫書(pdf)</a>,\n",
       " <a href=\"http://www-ws.gov.taipei/001/Upload/public/MMO/URO/松山區B030.pdf\" target=\"_blank\">計畫書(pdf)</a>,\n",
       " <a href=\"http://www-ws.gov.taipei/001/Upload/public/MMO/URO/松山區B021.pdf\" target=\"_blank\">計畫書(pdf)</a>,\n",
       " <a href=\"http://www-ws.gov.taipei/001/Upload/public/MMO/URO/松山區B008.pdf\" target=\"_blank\">計畫書(pdf)</a>,\n",
       " <a href=\"cp.aspx?n=1DB8B0B52F1EAD3A\" title=\"預(決)算書\">預(決)算書</a>]"
      ]
     },
     "execution_count": 6,
     "metadata": {},
     "output_type": "execute_result"
    }
   ],
   "source": [
    "soup.find_all('a',text=re.compile(r'書'))"
   ]
  },
  {
   "cell_type": "code",
   "execution_count": 11,
   "metadata": {},
   "outputs": [
    {
     "data": {
      "text/plain": [
       "[<a href=\"http://www-ws.gov.taipei/001/Upload/public/MMO/URO/松山區B1088.pdf\" target=\"_blank\" title=\"B1088\">檢討書(pdf)</a>,\n",
       " <a href=\"http://www-ws.gov.taipei/001/Upload/public/MMO/URO/松山區B1085.pdf\" target=\"_blank\" title=\"B1085\">檢討書(pdf)</a>,\n",
       " <a href=\"http://www-ws.gov.taipei/001/Upload/public/MMO/URO/松山區B1084.pdf\" target=\"_blank\" title=\"B1084\">檢討書(pdf)</a>,\n",
       " <a href=\"http://www-ws.gov.taipei/001/Upload/public/MMO/URO/松山區B1070.pdf\" target=\"_blank\" title=\"B1070\">檢討書(pdf)</a>,\n",
       " <a href=\"http://www-ws.gov.taipei/001/Upload/public/MMO/URO/松山區B1036.pdf\" target=\"_blank\">檢討書(pdf)</a>,\n",
       " <a href=\"http://www-ws.gov.taipei/001/Upload/public/MMO/URO/松山區B1009.pdf\" target=\"_blank\">檢討書(pdf)</a>,\n",
       " <a href=\"http://www-ws.gov.taipei/001/Upload/public/MMO/URO/松山區B1003.pdf\" target=\"_blank\">檢討書(pdf)</a>,\n",
       " <a href=\"http://www-ws.gov.taipei/001/Upload/public/MMO/URO/松山區B0987.pdf\" target=\"_blank\">檢討書(pdf)</a>,\n",
       " <a href=\"http://www-ws.gov.taipei/001/Upload/public/MMO/URO/松山區B0966.pdf\" target=\"_blank\">檢討書(pdf)</a>,\n",
       " <a href=\"http://www-ws.gov.taipei/001/Upload/public/MMO/URO/松山區B0954.pdf\" target=\"_blank\">檢討書(pdf)</a>,\n",
       " <a href=\"http://www-ws.gov.taipei/001/Upload/public/MMO/URO/松山區B0943.pdf\" target=\"_blank\">檢討書(pdf)</a>,\n",
       " <a href=\"http://www-ws.gov.taipei/001/Upload/public/MMO/URO/松山區B0940.pdf\" target=\"_blank\">檢討書(pdf)</a>,\n",
       " <a href=\"http://www-ws.gov.taipei/001/Upload/public/MMO/URO/松山區B0937.pdf\" target=\"_blank\">檢討書(pdf)</a>,\n",
       " <a href=\"http://www-ws.gov.taipei/001/Upload/public/MMO/URO/松山區B0926.pdf\" target=\"_blank\">檢討書(pdf)</a>,\n",
       " <a href=\"http://www-ws.gov.taipei/001/Upload/public/MMO/URO/松山區B0915.pdf\" target=\"_blank\">檢討書(pdf)</a>,\n",
       " <a href=\"http://www-ws.gov.taipei/001/Upload/public/MMO/URO/松山區B0916.pdf\" target=\"_blank\">檢討書(pdf)</a>,\n",
       " <a href=\"http://www-ws.gov.taipei/001/Upload/public/MMO/URO/松山區B0902.pdf\" target=\"_blank\">檢討書(pdf)</a>,\n",
       " <a href=\"http://www-ws.gov.taipei/001/Upload/public/MMO/URO/松山區B0899.pdf\" target=\"_blank\">檢討書(pdf)</a>,\n",
       " <a href=\"http://www-ws.gov.taipei/001/Upload/public/MMO/URO/松山區B0895.pdf\" target=\"_blank\">檢討書(pdf)</a>,\n",
       " <a href=\"http://www-ws.gov.taipei/001/Upload/public/MMO/URO/松山區B0892.pdf\" target=\"_blank\">檢討書(pdf)</a>,\n",
       " <a href=\"http://www-ws.gov.taipei/001/Upload/public/MMO/URO/松山區B0874.pdf\" target=\"_blank\">檢討書(pdf)</a>,\n",
       " <a href=\"http://www-ws.gov.taipei/001/Upload/public/MMO/URO/松山區B0873.pdf\" target=\"_blank\">檢討書(pdf)</a>,\n",
       " <a href=\"http://www-ws.gov.taipei/001/Upload/public/MMO/URO/松山區B0859.pdf\" target=\"_blank\">檢討書(pdf)</a>,\n",
       " <a href=\"http://www-ws.gov.taipei/001/Upload/public/MMO/URO/松山區B0854.pdf\" target=\"_blank\">檢討書(pdf)</a>,\n",
       " <a href=\"http://www-ws.gov.taipei/001/Upload/public/MMO/URO/松山區K0850.pdf\" target=\"_blank\">檢討書(pdf)</a>,\n",
       " <a href=\"http://www-ws.gov.taipei/001/Upload/public/MMO/URO/松山區B0835.pdf\" target=\"_blank\">檢討書(pdf)</a>,\n",
       " <a href=\"http://www-ws.gov.taipei/001/Upload/public/MMO/URO/松山區B0833.pdf\" target=\"_blank\">檢討書(pdf)</a>,\n",
       " <a href=\"http://www-ws.gov.taipei/001/Upload/public/MMO/URO/松山區B0822.pdf\" target=\"_blank\">檢討書(pdf)</a>,\n",
       " <a href=\"http://www-ws.gov.taipei/001/Upload/public/MMO/URO/松山區B0811.pdf\" target=\"_blank\">檢討書(pdf)</a>,\n",
       " <a href=\"http://www-ws.gov.taipei/001/Upload/public/MMO/URO/松山區B0798.pdf\" target=\"_blank\">檢討書(pdf)</a>,\n",
       " <a href=\"http://www-ws.gov.taipei/001/Upload/public/MMO/URO/松山區B0794.pdf\" target=\"_blank\">檢討書(pdf)</a>,\n",
       " <a href=\"http://www-ws.gov.taipei/001/Upload/public/MMO/URO/松山區D0794.pdf\" target=\"_blank\">修正檢討書(pdf)內容</a>,\n",
       " <a href=\"http://www-ws.gov.taipei/001/Upload/public/MMO/URO/松山區B0784.pdf\" target=\"_blank\">檢討書(pdf)</a>,\n",
       " <a href=\"http://www-ws.gov.taipei/001/Upload/public/MMO/URO/松山區B0744.pdf\" target=\"_blank\">檢討書(pdf)</a>,\n",
       " <a href=\"http://www-ws.gov.taipei/001/Upload/public/MMO/URO/松山區B0736.pdf\" target=\"_blank\">檢討書(pdf)</a>,\n",
       " <a href=\"http://www-ws.gov.taipei/001/Upload/public/MMO/URO/松山區B0722.pdf\" target=\"_blank\">檢討書(pdf)</a>,\n",
       " <a href=\"http://www-ws.gov.taipei/001/Upload/public/MMO/URO/松山區B0716.pdf\" target=\"_blank\">檢討書(pdf)</a>,\n",
       " <a href=\"http://www-ws.gov.taipei/001/Upload/public/MMO/URO/松山區B0681.pdf\" target=\"_blank\">檢討書(pdf)</a>,\n",
       " <a href=\"http://www-ws.gov.taipei/001/Upload/public/MMO/URO/松山區B0659.pdf\" target=\"_blank\">檢討書(pdf)</a>,\n",
       " <a href=\"http://www-ws.gov.taipei/001/Upload/public/MMO/URO/松山區B0652.pdf\" target=\"_blank\">計畫書(pdf)</a>,\n",
       " <a href=\"http://www-ws.gov.taipei/001/Upload/public/MMO/URO/松山區B0646.pdf\" target=\"_blank\">檢討書(pdf)</a>,\n",
       " <a href=\"http://www-ws.gov.taipei/001/Upload/public/MMO/URO/松山區B0647.pdf\" target=\"_blank\">檢討書(pdf)</a>,\n",
       " <a href=\"http://www-ws.gov.taipei/001/Upload/public/MMO/URO/松山區B0641.pdf\" target=\"_blank\">檢討書(pdf)</a>,\n",
       " <a href=\"http://www-ws.gov.taipei/001/Upload/public/MMO/URO/松山區B0595.pdf\" target=\"_blank\">檢討書(pdf)</a>,\n",
       " <a href=\"http://www-ws.gov.taipei/001/Upload/public/MMO/URO/松山區B0592.pdf\" target=\"_blank\">檢討書(pdf)</a>,\n",
       " <a href=\"http://www-ws.gov.taipei/001/Upload/public/MMO/URO/松山區B0581.pdf\" target=\"_blank\">檢討書(pdf)</a>,\n",
       " <a href=\"http://www-ws.gov.taipei/001/Upload/public/MMO/URO/松山區B0557.pdf\" target=\"_blank\" title=\"計畫書(pdf)-B0557\">計畫書(pdf)</a>,\n",
       " <a href=\"http://www-ws.gov.taipei/001/Upload/public/MMO/URO/松山區B0556.pdf\" target=\"_blank\" title=\"計畫書(pdf)-B0556\">計畫書(pdf)</a>,\n",
       " <a href=\"http://www-ws.gov.taipei/001/Upload/public/MMO/URO/松山區B0541.pdf\" target=\"_blank\" title=\"計畫書(pdf)-B0541\">計畫書(pdf)</a>,\n",
       " <a href=\"http://www-ws.gov.taipei/001/Upload/public/MMO/URO/松山區B0540.pdf\" target=\"_blank\" title=\"計畫書(pdf)-B0540\">計畫書(pdf)</a>,\n",
       " <a href=\"http://www-ws.gov.taipei/001/Upload/public/MMO/URO/松山區B0539.pdf\" target=\"_blank\" title=\"計畫書(pdf)-B0539\">計畫書(pdf)</a>,\n",
       " <a href=\"http://www-ws.gov.taipei/001/Upload/public/MMO/URO/松山區B0522.pdf\" target=\"_blank\" title=\"計畫書(pdf)-B0522\">計畫書(pdf)</a>,\n",
       " <a href=\"http://www-ws.gov.taipei/001/Upload/public/MMO/URO/松山區B0509.pdf\" target=\"_blank\" title=\"計畫書(pdf)-B0509\">計畫書(pdf)</a>]"
      ]
     },
     "execution_count": 11,
     "metadata": {},
     "output_type": "execute_result"
    }
   ],
   "source": [
    "files_done = 0\n",
    "#soup.find_all('a',text=re.compile(r'書'))[2+files_done:-60]\n",
    "links = soup.find_all('a',text=re.compile(r'書'))[2+files_done:-37]\n",
    "links"
   ]
  },
  {
   "cell_type": "code",
   "execution_count": 12,
   "metadata": {},
   "outputs": [],
   "source": [
    "file_links = [link['href'] for link in links][:]"
   ]
  },
  {
   "cell_type": "code",
   "execution_count": 13,
   "metadata": {},
   "outputs": [
    {
     "data": {
      "application/vnd.jupyter.widget-view+json": {
       "model_id": "522c1f6f9451478a89a4689bc2197af3",
       "version_major": 2,
       "version_minor": 0
      },
      "text/plain": [
       "HBox(children=(IntProgress(value=0, max=53), HTML(value='')))"
      ]
     },
     "metadata": {},
     "output_type": "display_data"
    },
    {
     "name": "stdout",
     "output_type": "stream",
     "text": [
      "\n"
     ]
    }
   ],
   "source": [
    "tqdm_notebook.monitor_interval=0\n",
    "for file_link in tqdm_notebook(file_links):\n",
    "    filename = file_link.split('/')[-1]\n",
    "    response = requests.get(file_link)\n",
    "    with open(filename,'wb') as outf:\n",
    "        outf.write(response.content)"
   ]
  },
  {
   "cell_type": "code",
   "execution_count": null,
   "metadata": {},
   "outputs": [],
   "source": []
  },
  {
   "cell_type": "code",
   "execution_count": 81,
   "metadata": {},
   "outputs": [],
   "source": [
    "tqdm.monitor_interval=0\n",
    "with open('urls.txt','w') as outf:\n",
    "    outf.write('\\n'.join(file_links))"
   ]
  },
  {
   "cell_type": "code",
   "execution_count": null,
   "metadata": {},
   "outputs": [],
   "source": []
  }
 ],
 "metadata": {
  "kernelspec": {
   "display_name": "Python 3",
   "language": "python",
   "name": "python3"
  },
  "language_info": {
   "codemirror_mode": {
    "name": "ipython",
    "version": 3
   },
   "file_extension": ".py",
   "mimetype": "text/x-python",
   "name": "python",
   "nbconvert_exporter": "python",
   "pygments_lexer": "ipython3",
   "version": "3.6.4"
  }
 },
 "nbformat": 4,
 "nbformat_minor": 2
}
