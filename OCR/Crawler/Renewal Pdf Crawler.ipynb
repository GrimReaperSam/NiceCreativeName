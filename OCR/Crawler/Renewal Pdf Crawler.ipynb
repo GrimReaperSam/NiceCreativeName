{
 "cells": [
  {
   "cell_type": "code",
   "execution_count": 4,
   "metadata": {},
   "outputs": [],
   "source": [
    "import requests\n",
    "from bs4 import BeautifulSoup as BS\n",
    "import re\n",
    "from tqdm import tqdm_notebook\n",
    "import urllib3\n",
    "import ssl\n"
   ]
  },
  {
   "cell_type": "code",
   "execution_count": 41,
   "metadata": {},
   "outputs": [
    {
     "name": "stderr",
     "output_type": "stream",
     "text": [
      "/Users/yyl/miniconda3/envs/cv/lib/python3.6/site-packages/urllib3/connectionpool.py:858: InsecureRequestWarning: Unverified HTTPS request is being made. Adding certificate verification is strongly advised. See: https://urllib3.readthedocs.io/en/latest/advanced-usage.html#ssl-warnings\n",
      "  InsecureRequestWarning)\n"
     ]
    }
   ],
   "source": [
    "#ssl._create_default_https_context = ssl._create_unverified_context\n",
    "url = 'https://uro.gov.taipei/News_Content.aspx?n=AF4D78CF694B745C&sms=CCC54E6046E281ED&s=6439D6C48FEFFD35'\n",
    "response = requests.get(url, verify=False)\n",
    "soup = BS(response.text,'html5lib')"
   ]
  },
  {
   "cell_type": "code",
   "execution_count": 42,
   "metadata": {},
   "outputs": [
    {
     "data": {
      "text/plain": [
       "[<a href=\"cp.aspx?n=1DB8B0B52F1EAD3A\" title=\"預(決)算書\">預(決)算書</a>,\n",
       " <a href=\"cp.aspx?n=1DB8B0B52F1EAD3A\" title=\"預(決)算書\">預(決)算書</a>,\n",
       " <a href=\"http://www-ws.gov.taipei/Download.ashx?u=LzAwMS9VcGxvYWQvNDU5L2NrZmlsZS84NGE3MjJlNy05Y2Q4LTQ3MGEtOWU4Yy04NWFhMzQzYTNlZTIucGRm&amp;n=5qqi6KiO5pu4LnBkZg%3d%3d\" target=\"_blank\" title=\"檢討書(pdf)-B1097\">檢討書(pdf)</a>,\n",
       " <a href=\"http://www-ws.gov.taipei/001/Upload/public/MMO/URO/內湖區B1051.pdf\" target=\"_blank\" title=\"檢討書(pdf)-B1051\">檢討書(pdf)</a>,\n",
       " <a href=\"http://www-ws.gov.taipei/001/Upload/public/MMO/URO/內湖區B1025.pdf\" target=\"_blank\">檢討書(pdf)</a>,\n",
       " <a href=\"http://www-ws.gov.taipei/001/Upload/public/MMO/URO/內湖區B1006.pdf\" target=\"_blank\">檢討書(pdf)</a>,\n",
       " <a href=\"http://www-ws.gov.taipei/001/Upload/public/MMO/URO/內湖區B0993.pdf\" target=\"_blank\">檢討書(pdf)</a>,\n",
       " <a href=\"http://www-ws.gov.taipei/001/Upload/public/MMO/URO/內湖區B0977.pdf\" target=\"_blank\">檢討書(pdf)</a>,\n",
       " <a href=\"http://www-ws.gov.taipei/001/Upload/public/MMO/URO/內湖區B0970.pdf\" target=\"_blank\">檢討書(pdf)</a>,\n",
       " <a href=\"http://www-ws.gov.taipei/001/Upload/public/MMO/URO/內湖區B0963.pdf\" target=\"_blank\">檢討書(pdf)</a>,\n",
       " <a href=\"http://www-ws.gov.taipei/001/Upload/public/MMO/URO/內湖區B0931.pdf\" target=\"_blank\">檢討書(pdf)</a>,\n",
       " <a href=\"http://www-ws.gov.taipei/001/Upload/public/MMO/URO/內湖區B0911.pdf\" target=\"_blank\">檢討書(pdf)</a>,\n",
       " <a href=\"http://www-ws.gov.taipei/001/Upload/public/MMO/URO/內湖區B0906.pdf\" target=\"_blank\">檢討書(pdf)</a>,\n",
       " <a href=\"http://www-ws.gov.taipei/001/Upload/public/MMO/URO/內湖區B0893.pdf\" target=\"_blank\">檢討書(pdf)</a>,\n",
       " <a href=\"http://www-ws.gov.taipei/001/Upload/public/MMO/URO/內湖區B0853.pdf\" target=\"_blank\">檢討書(pdf)</a>,\n",
       " <a href=\"http://www-ws.gov.taipei/001/Upload/public/MMO/URO/內湖區B0823.pdf\" target=\"_blank\">檢討書(pdf)</a>,\n",
       " <a href=\"http://www-ws.gov.taipei/001/Upload/public/MMO/URO/內湖區B0814.pdf\" target=\"_blank\">檢討書(pdf)</a>,\n",
       " <a href=\"http://www-ws.gov.taipei/001/Upload/public/MMO/URO/內湖區B0793.pdf\" target=\"_blank\">檢討書(pdf)</a>,\n",
       " <a href=\"http://www-ws.gov.taipei/001/Upload/public/MMO/URO/內湖區B0789.pdf\" target=\"_blank\">檢討書(pdf)</a>,\n",
       " <a href=\"http://www-ws.gov.taipei/001/Upload/public/MMO/URO/內湖區B0765.pdf\" target=\"_blank\">檢討書(pdf)</a>,\n",
       " <a href=\"http://www-ws.gov.taipei/001/Upload/public/MMO/URO/內湖區B0762.pdf\" target=\"_blank\">檢討書(pdf)</a>,\n",
       " <a href=\"http://www-ws.gov.taipei/001/Upload/public/MMO/URO/內湖區B0728.pdf\" target=\"_blank\">檢討書(pdf)</a>,\n",
       " <a href=\"http://www-ws.gov.taipei/001/Upload/public/MMO/URO/內湖區B0727.pdf\" target=\"_blank\">檢討書(pdf)</a>,\n",
       " <a href=\"http://www-ws.gov.taipei/001/Upload/public/MMO/URO/內湖區B0698.pdf\" target=\"_blank\">檢討書(pdf)</a>,\n",
       " <a href=\"http://www-ws.gov.taipei/001/Upload/public/MMO/URO/內湖區B0620.pdf\" target=\"_blank\">檢討書(pdf)</a>,\n",
       " <a href=\"http://www-ws.gov.taipei/001/Upload/public/MMO/URO/內湖區B0613.pdf\" target=\"_blank\">檢討書(pdf)</a>,\n",
       " <a href=\"http://www-ws.gov.taipei/001/Upload/public/MMO/URO/內湖區B0560.pdf\" target=\"_blank\">計畫書(pdf)</a>,\n",
       " <a href=\"http://www-ws.gov.taipei/001/Upload/public/MMO/URO/內湖區B0507.pdf\" target=\"_blank\">計畫書(pdf)</a>,\n",
       " <a href=\"http://www-ws.gov.taipei/001/Upload/public/MMO/URO/內湖區B0506.pdf\" target=\"_blank\">計畫書(pdf)</a>,\n",
       " <a href=\"http://www-ws.gov.taipei/001/Upload/public/MMO/URO/內湖區B0505.pdf\" target=\"_blank\">計畫書(pdf)</a>,\n",
       " <a href=\"http://www-ws.gov.taipei/001/Upload/public/MMO/URO/內湖區B0484.pdf\" target=\"_blank\">計畫書(pdf)</a>,\n",
       " <a href=\"http://www-ws.gov.taipei/001/Upload/public/MMO/URO/內湖區B471.pdf\" target=\"_blank\">計畫書(pdf)</a>,\n",
       " <a href=\"http://www-ws.gov.taipei/001/Upload/public/MMO/URO/內湖區B414.pdf\" target=\"_blank\">計畫書(pdf)</a>,\n",
       " <a href=\"http://www-ws.gov.taipei/001/Upload/public/MMO/URO/內湖區B393.pdf\" target=\"_blank\">計畫書(pdf)</a>,\n",
       " <a href=\"http://www-ws.gov.taipei/001/Upload/public/MMO/URO/內湖區B383.pdf\" target=\"_blank\">計畫書(pdf)</a>,\n",
       " <a href=\"http://www-ws.gov.taipei/001/Upload/public/MMO/URO/內湖區B351.pdf\" target=\"_blank\">計畫書(pdf)</a>,\n",
       " <a href=\"http://www-ws.gov.taipei/001/Upload/public/MMO/URO/內湖區B333.pdf\" target=\"_blank\">計畫書(pdf)</a>,\n",
       " <a href=\"http://www-ws.gov.taipei/001/Upload/public/MMO/URO/內湖區B268.pdf\" target=\"_blank\">計畫書(pdf)</a>,\n",
       " <a href=\"http://www-ws.gov.taipei/001/Upload/public/MMO/URO/內湖區B228.pdf\" target=\"_blank\">計畫書(pdf)</a>,\n",
       " <a href=\"http://www-ws.gov.taipei/001/Upload/public/MMO/URO/內湖區B170.pdf\" target=\"_blank\">計畫書(pdf)</a>,\n",
       " <a href=\"http://www-ws.gov.taipei/001/Upload/public/MMO/URO/內湖區B1057.pdf\" target=\"_blank\">計畫書(pdf)</a>,\n",
       " <a href=\"http://www-ws.gov.taipei/001/Upload/public/MMO/URO/內湖區B155.pdf\" target=\"_blank\">計畫書(pdf)</a>,\n",
       " <a href=\"http://www-ws.gov.taipei/001/Upload/public/MMO/URO/內湖區B118.pdf\" target=\"_blank\">計畫書(pdf)</a>,\n",
       " <a href=\"http://www-ws.gov.taipei/001/Upload/public/MMO/URO/內湖區B115.pdf\" target=\"_blank\">計畫書(pdf)</a>,\n",
       " <a href=\"http://www-ws.gov.taipei/001/Upload/public/MMO/URO/內湖區B0073.pdf\" target=\"_blank\">計畫書(pdf)</a>,\n",
       " <a href=\"http://www-ws.gov.taipei/001/Upload/public/MMO/URO/內湖區B0045.pdf\" target=\"_blank\">計畫書(pdf)</a>,\n",
       " <a href=\"http://www-ws.gov.taipei/001/Upload/public/MMO/URO/內湖區B0011.pdf\" target=\"_blank\">計畫書(pdf)</a>,\n",
       " <a href=\"cp.aspx?n=1DB8B0B52F1EAD3A\" title=\"預(決)算書\">預(決)算書</a>]"
      ]
     },
     "execution_count": 42,
     "metadata": {},
     "output_type": "execute_result"
    }
   ],
   "source": [
    "soup.find_all('a',text=re.compile(r'書'))"
   ]
  },
  {
   "cell_type": "code",
   "execution_count": 50,
   "metadata": {},
   "outputs": [
    {
     "data": {
      "text/plain": [
       "[<a href=\"http://www-ws.gov.taipei/001/Upload/public/MMO/URO/內湖區B0505.pdf\" target=\"_blank\">計畫書(pdf)</a>]"
      ]
     },
     "execution_count": 50,
     "metadata": {},
     "output_type": "execute_result"
    }
   ],
   "source": [
    "files_done = 0\n",
    "#soup.find_all('a',text=re.compile(r'書'))[2+files_done:-60]\n",
    "links = soup.find_all('a',text=re.compile(r'書'))[2+files_done:-18]\n",
    "links"
   ]
  },
  {
   "cell_type": "code",
   "execution_count": 51,
   "metadata": {},
   "outputs": [],
   "source": [
    "file_links = [link['href'] for link in links][:]"
   ]
  },
  {
   "cell_type": "code",
   "execution_count": 52,
   "metadata": {},
   "outputs": [
    {
     "data": {
      "application/vnd.jupyter.widget-view+json": {
       "model_id": "167710f52c914770aa28a3ac00c0d1cf",
       "version_major": 2,
       "version_minor": 0
      },
      "text/plain": [
       "HBox(children=(IntProgress(value=0, max=1), HTML(value='')))"
      ]
     },
     "metadata": {},
     "output_type": "display_data"
    },
    {
     "name": "stdout",
     "output_type": "stream",
     "text": [
      "\n",
      "\n"
     ]
    }
   ],
   "source": [
    "tqdm_notebook.monitor_interval=0\n",
    "for file_link in tqdm_notebook(file_links):\n",
    "    filename = file_link.split('/')[-1]\n",
    "    response = requests.get(file_link)\n",
    "    with open(filename,'wb') as outf:\n",
    "        outf.write(response.content)"
   ]
  },
  {
   "cell_type": "code",
   "execution_count": null,
   "metadata": {},
   "outputs": [],
   "source": []
  },
  {
   "cell_type": "code",
   "execution_count": 81,
   "metadata": {},
   "outputs": [],
   "source": [
    "tqdm.monitor_interval=0\n",
    "with open('urls.txt','w') as outf:\n",
    "    outf.write('\\n'.join(file_links))"
   ]
  },
  {
   "cell_type": "code",
   "execution_count": null,
   "metadata": {},
   "outputs": [],
   "source": []
  }
 ],
 "metadata": {
  "kernelspec": {
   "display_name": "Python 3",
   "language": "python",
   "name": "python3"
  },
  "language_info": {
   "codemirror_mode": {
    "name": "ipython",
    "version": 3
   },
   "file_extension": ".py",
   "mimetype": "text/x-python",
   "name": "python",
   "nbconvert_exporter": "python",
   "pygments_lexer": "ipython3",
   "version": "3.6.4"
  }
 },
 "nbformat": 4,
 "nbformat_minor": 2
}
