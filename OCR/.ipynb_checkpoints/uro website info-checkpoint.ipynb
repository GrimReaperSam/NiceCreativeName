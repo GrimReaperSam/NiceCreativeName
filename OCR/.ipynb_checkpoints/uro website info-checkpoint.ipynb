{
 "cells": [
  {
   "cell_type": "code",
   "execution_count": 1,
   "metadata": {},
   "outputs": [],
   "source": [
    "import requests\n",
    "from bs4 import BeautifulSoup as BS\n",
    "import re\n",
    "from tqdm import tqdm_notebook\n",
    "import urllib3\n",
    "import ssl"
   ]
  },
  {
   "cell_type": "code",
   "execution_count": null,
   "metadata": {},
   "outputs": [],
   "source": [
    "urls = \n",
    "['https://uro.gov.taipei/News_Content.aspx?n=AF4D78CF694B745C&sms=CCC54E6046E281ED&s=0C0C4F367526A01E',\n",
    " 'https://uro.gov.taipei/News_Content.aspx?n=AF4D78CF694B745C&sms=CCC54E6046E281ED&s=0FC4CB202A637EF2',\n",
    " 'https://uro.gov.taipei/News_Content.aspx?n=AF4D78CF694B745C&sms=CCC54E6046E281ED&s=B014264347C741B4',\n",
    " 'https://uro.gov.taipei/News_Content.aspx?n=AF4D78CF694B745C&sms=CCC54E6046E281ED&s=4D63D39F1917F79C',\n",
    " 'https://uro.gov.taipei/News_Content.aspx?n=AF4D78CF694B745C&sms=CCC54E6046E281ED&s=0506BBD198C08FA7',\n",
    " 'https://uro.gov.taipei/News_Content.aspx?n=AF4D78CF694B745C&sms=CCC54E6046E281ED&s=6439D6C48FEFFD35',\n",
    " 'https://uro.gov.taipei/News_Content.aspx?n=AF4D78CF694B745C&sms=CCC54E6046E281ED&s=E6CE441645AA1240',\n",
    " 'https://uro.gov.taipei/News_Content.aspx?n=AF4D78CF694B745C&sms=CCC54E6046E281ED&s=C404F913A1169FB8',\n",
    " 'https://uro.gov.taipei/News_Content.aspx?n=AF4D78CF694B745C&sms=CCC54E6046E281ED&s=A8E4116C7FAE89D8',\n",
    " 'https://uro.gov.taipei/News_Content.aspx?n=AF4D78CF694B745C&sms=CCC54E6046E281ED&s=26DEF039EBEB36D3',\n",
    " 'https://uro.gov.taipei/News_Content.aspx?n=AF4D78CF694B745C&sms=CCC54E6046E281ED&s=876DB8400B83AB97',\n",
    " 'https://uro.gov.taipei/News_Content.aspx?n=AF4D78CF694B745C&sms=CCC54E6046E281ED&s=0B770B4DB8A93B9E']\n",
    "\n"
   ]
  }
 ],
 "metadata": {
  "kernelspec": {
   "display_name": "Python 3",
   "language": "python",
   "name": "python3"
  },
  "language_info": {
   "codemirror_mode": {
    "name": "ipython",
    "version": 3
   },
   "file_extension": ".py",
   "mimetype": "text/x-python",
   "name": "python",
   "nbconvert_exporter": "python",
   "pygments_lexer": "ipython3",
   "version": "3.6.4"
  }
 },
 "nbformat": 4,
 "nbformat_minor": 2
}
