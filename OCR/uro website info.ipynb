{
 "cells": [
  {
   "cell_type": "code",
   "execution_count": 1,
   "metadata": {},
   "outputs": [],
   "source": [
    "import requests\n",
    "from bs4 import BeautifulSoup as BS\n",
    "import re\n",
    "from tqdm import tqdm_notebook\n",
    "import urllib3\n",
    "import ssl"
   ]
  },
  {
   "cell_type": "code",
   "execution_count": 62,
   "metadata": {},
   "outputs": [],
   "source": [
    "urls = ['https://uro.gov.taipei/News_Content.aspx?n=AF4D78CF694B745C&sms=CCC54E6046E281ED&s=0C0C4F367526A01E',\n",
    " 'https://uro.gov.taipei/News_Content.aspx?n=AF4D78CF694B745C&sms=CCC54E6046E281ED&s=0FC4CB202A637EF2',\n",
    " 'https://uro.gov.taipei/News_Content.aspx?n=AF4D78CF694B745C&sms=CCC54E6046E281ED&s=B014264347C741B4',\n",
    " 'https://uro.gov.taipei/News_Content.aspx?n=AF4D78CF694B745C&sms=CCC54E6046E281ED&s=4D63D39F1917F79C',\n",
    " 'https://uro.gov.taipei/News_Content.aspx?n=AF4D78CF694B745C&sms=CCC54E6046E281ED&s=0506BBD198C08FA7',\n",
    " 'https://uro.gov.taipei/News_Content.aspx?n=AF4D78CF694B745C&sms=CCC54E6046E281ED&s=6439D6C48FEFFD35',\n",
    " 'https://uro.gov.taipei/News_Content.aspx?n=AF4D78CF694B745C&sms=CCC54E6046E281ED&s=E6CE441645AA1240',\n",
    " 'https://uro.gov.taipei/News_Content.aspx?n=AF4D78CF694B745C&sms=CCC54E6046E281ED&s=C404F913A1169FB8',\n",
    " 'https://uro.gov.taipei/News_Content.aspx?n=AF4D78CF694B745C&sms=CCC54E6046E281ED&s=A8E4116C7FAE89D8',\n",
    " 'https://uro.gov.taipei/News_Content.aspx?n=AF4D78CF694B745C&sms=CCC54E6046E281ED&s=26DEF039EBEB36D3',\n",
    " 'https://uro.gov.taipei/News_Content.aspx?n=AF4D78CF694B745C&sms=CCC54E6046E281ED&s=876DB8400B83AB97',\n",
    " 'https://uro.gov.taipei/News_Content.aspx?n=AF4D78CF694B745C&sms=CCC54E6046E281ED&s=0B770B4DB8A93B9E']"
   ]
  },
  {
   "cell_type": "code",
   "execution_count": 56,
   "metadata": {},
   "outputs": [],
   "source": [
    "url = urls[0]"
   ]
  },
  {
   "cell_type": "code",
   "execution_count": 5,
   "metadata": {},
   "outputs": [
    {
     "name": "stderr",
     "output_type": "stream",
     "text": [
      "/Users/yyl/miniconda3/lib/python3.6/site-packages/urllib3/connectionpool.py:858: InsecureRequestWarning: Unverified HTTPS request is being made. Adding certificate verification is strongly advised. See: https://urllib3.readthedocs.io/en/latest/advanced-usage.html#ssl-warnings\n",
      "  InsecureRequestWarning)\n"
     ]
    }
   ],
   "source": [
    "response = requests.get(url, verify=False)\n",
    "soup = BS(response.text,'html5lib')"
   ]
  },
  {
   "cell_type": "code",
   "execution_count": 26,
   "metadata": {},
   "outputs": [
    {
     "data": {
      "text/plain": [
       "'106.7.17'"
      ]
     },
     "execution_count": 26,
     "metadata": {},
     "output_type": "execute_result"
    }
   ],
   "source": [
    "re.findall('[0-9]+\\.[0-9]+\\.[0-9]+',soup.find_all('table')[0].find_all('tr')[1].find_all('td')[0].text)[0]"
   ]
  },
  {
   "cell_type": "code",
   "execution_count": 28,
   "metadata": {},
   "outputs": [],
   "source": [
    "rr=soup.find_all('table')[0].find_all('tr')[1]"
   ]
  },
  {
   "cell_type": "code",
   "execution_count": 36,
   "metadata": {
    "scrolled": true
   },
   "outputs": [
    {
     "data": {
      "text/plain": [
       "'士林區B1074'"
      ]
     },
     "execution_count": 36,
     "metadata": {},
     "output_type": "execute_result"
    }
   ],
   "source": [
    "rr.find_all('td')[-1].find_all('a')[0].get('href').split('/')[-1].split('.')[0]"
   ]
  },
  {
   "cell_type": "code",
   "execution_count": 27,
   "metadata": {},
   "outputs": [],
   "source": [
    "rows = soup.find_all('table')[0].find_all('tr')[1:]"
   ]
  },
  {
   "cell_type": "code",
   "execution_count": 65,
   "metadata": {},
   "outputs": [
    {
     "name": "stderr",
     "output_type": "stream",
     "text": [
      "/Users/yyl/miniconda3/lib/python3.6/site-packages/urllib3/connectionpool.py:858: InsecureRequestWarning: Unverified HTTPS request is being made. Adding certificate verification is strongly advised. See: https://urllib3.readthedocs.io/en/latest/advanced-usage.html#ssl-warnings\n",
      "  InsecureRequestWarning)\n",
      "/Users/yyl/miniconda3/lib/python3.6/site-packages/urllib3/connectionpool.py:858: InsecureRequestWarning: Unverified HTTPS request is being made. Adding certificate verification is strongly advised. See: https://urllib3.readthedocs.io/en/latest/advanced-usage.html#ssl-warnings\n",
      "  InsecureRequestWarning)\n"
     ]
    },
    {
     "name": "stdout",
     "output_type": "stream",
     "text": [
      "<tr> \t\t\t<td> </td> \t\t</tr>\n",
      "list index out of range\n",
      "<tr> \t\t\t<td> </td> \t\t</tr>\n",
      "list index out of range\n"
     ]
    },
    {
     "name": "stderr",
     "output_type": "stream",
     "text": [
      "/Users/yyl/miniconda3/lib/python3.6/site-packages/urllib3/connectionpool.py:858: InsecureRequestWarning: Unverified HTTPS request is being made. Adding certificate verification is strongly advised. See: https://urllib3.readthedocs.io/en/latest/advanced-usage.html#ssl-warnings\n",
      "  InsecureRequestWarning)\n",
      "/Users/yyl/miniconda3/lib/python3.6/site-packages/urllib3/connectionpool.py:858: InsecureRequestWarning: Unverified HTTPS request is being made. Adding certificate verification is strongly advised. See: https://urllib3.readthedocs.io/en/latest/advanced-usage.html#ssl-warnings\n",
      "  InsecureRequestWarning)\n",
      "/Users/yyl/miniconda3/lib/python3.6/site-packages/urllib3/connectionpool.py:858: InsecureRequestWarning: Unverified HTTPS request is being made. Adding certificate verification is strongly advised. See: https://urllib3.readthedocs.io/en/latest/advanced-usage.html#ssl-warnings\n",
      "  InsecureRequestWarning)\n",
      "/Users/yyl/miniconda3/lib/python3.6/site-packages/urllib3/connectionpool.py:858: InsecureRequestWarning: Unverified HTTPS request is being made. Adding certificate verification is strongly advised. See: https://urllib3.readthedocs.io/en/latest/advanced-usage.html#ssl-warnings\n",
      "  InsecureRequestWarning)\n",
      "/Users/yyl/miniconda3/lib/python3.6/site-packages/urllib3/connectionpool.py:858: InsecureRequestWarning: Unverified HTTPS request is being made. Adding certificate verification is strongly advised. See: https://urllib3.readthedocs.io/en/latest/advanced-usage.html#ssl-warnings\n",
      "  InsecureRequestWarning)\n",
      "/Users/yyl/miniconda3/lib/python3.6/site-packages/urllib3/connectionpool.py:858: InsecureRequestWarning: Unverified HTTPS request is being made. Adding certificate verification is strongly advised. See: https://urllib3.readthedocs.io/en/latest/advanced-usage.html#ssl-warnings\n",
      "  InsecureRequestWarning)\n",
      "/Users/yyl/miniconda3/lib/python3.6/site-packages/urllib3/connectionpool.py:858: InsecureRequestWarning: Unverified HTTPS request is being made. Adding certificate verification is strongly advised. See: https://urllib3.readthedocs.io/en/latest/advanced-usage.html#ssl-warnings\n",
      "  InsecureRequestWarning)\n",
      "/Users/yyl/miniconda3/lib/python3.6/site-packages/urllib3/connectionpool.py:858: InsecureRequestWarning: Unverified HTTPS request is being made. Adding certificate verification is strongly advised. See: https://urllib3.readthedocs.io/en/latest/advanced-usage.html#ssl-warnings\n",
      "  InsecureRequestWarning)\n"
     ]
    },
    {
     "name": "stdout",
     "output_type": "stream",
     "text": [
      "<tr class=\"td_bg1\" valign=\"top\"> \t\t\t<td><a href=\"http://www-ws.gov.taipei/001/Upload/public/MMO/URO/信義區A0222.pdf\" target=\"_blank\">98..1.22府都新字<br/> \t\t\t第09800098300號</a></td> \t\t\t<td>臺北市信義區永春段二小段15地號等18筆土地為更新單元</td> \t\t\t<td><a href=\"http://www-ws.gov.taipei/001/Upload/public/MMO/URO/信義區B222.pdf\" target=\"_blank\">計畫書(pdf)</a><br/> \t\t\t<a href=\"http://www-ws.gov.taipei/001/Upload/public/MMO/URO/信義區P0222.jpg\" target=\"_blank\" title=\"計畫圖(pdf)P0222\">計畫圖(pdf)</a></td> \t\t</tr>\n",
      "list index out of range\n"
     ]
    },
    {
     "name": "stderr",
     "output_type": "stream",
     "text": [
      "/Users/yyl/miniconda3/lib/python3.6/site-packages/urllib3/connectionpool.py:858: InsecureRequestWarning: Unverified HTTPS request is being made. Adding certificate verification is strongly advised. See: https://urllib3.readthedocs.io/en/latest/advanced-usage.html#ssl-warnings\n",
      "  InsecureRequestWarning)\n",
      "/Users/yyl/miniconda3/lib/python3.6/site-packages/urllib3/connectionpool.py:858: InsecureRequestWarning: Unverified HTTPS request is being made. Adding certificate verification is strongly advised. See: https://urllib3.readthedocs.io/en/latest/advanced-usage.html#ssl-warnings\n",
      "  InsecureRequestWarning)\n"
     ]
    }
   ],
   "source": [
    "filenames,numbers =[],[]\n",
    "for url in urls:\n",
    "    response = requests.get(url, verify=False)\n",
    "    soup = BS(response.text,'html5lib')\n",
    "    rows = soup.find_all('table')[0].find_all('tr')[1:]\n",
    "    for row in rows:\n",
    "        try:\n",
    "            number = re.findall('[0-9]+\\.[0-9]+\\.[0-9]+',row.find_all('td')[0].text)[0]\n",
    "            filename = row.find_all('td')[-1].find_all('a')[0].get('href').split('/')[-1].split('.')[0]\n",
    "            numbers.append(number)\n",
    "            filenames.append(filename)\n",
    "        except Exception as e:\n",
    "            print(row)\n",
    "            print(e)\n",
    "            pass"
   ]
  },
  {
   "cell_type": "code",
   "execution_count": 66,
   "metadata": {},
   "outputs": [],
   "source": [
    "entries = list(zip(filenames, numbers))"
   ]
  },
  {
   "cell_type": "code",
   "execution_count": 67,
   "metadata": {},
   "outputs": [
    {
     "data": {
      "text/plain": [
       "'106.7.17'"
      ]
     },
     "execution_count": 67,
     "metadata": {},
     "output_type": "execute_result"
    }
   ],
   "source": [
    "entries[0][1]"
   ]
  },
  {
   "cell_type": "code",
   "execution_count": 68,
   "metadata": {},
   "outputs": [],
   "source": [
    "with open('years.csv', 'w') as out_file:\n",
    "    for entry in entries:\n",
    "        out_file.write(entry[0] + ',' + entry[1] + '\\n')"
   ]
  },
  {
   "cell_type": "code",
   "execution_count": null,
   "metadata": {},
   "outputs": [],
   "source": []
  }
 ],
 "metadata": {
  "kernelspec": {
   "display_name": "Python 3",
   "language": "python",
   "name": "python3"
  },
  "language_info": {
   "codemirror_mode": {
    "name": "ipython",
    "version": 3
   },
   "file_extension": ".py",
   "mimetype": "text/x-python",
   "name": "python",
   "nbconvert_exporter": "python",
   "pygments_lexer": "ipython3",
   "version": "3.6.4"
  }
 },
 "nbformat": 4,
 "nbformat_minor": 2
}
